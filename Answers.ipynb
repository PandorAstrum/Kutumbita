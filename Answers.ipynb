{
 "cells": [
  {
   "cell_type": "markdown",
   "metadata": {},
   "source": [
    "# Question Number 1"
   ]
  },
  {
   "cell_type": "markdown",
   "metadata": {
    "collapsed": true
   },
   "source": [
    "**Sample Input For Custom Testing**\n",
    "maze = {{0, 2, 0}, {0, 0, 1}, {1, 1, 1}} \n",
    "x = 1 y = 1 \n",
    "**Sample Output**\n",
    "2"
   ]
  },
  {
   "cell_type": "markdown",
   "metadata": {},
   "source": [
    "**Constraints**\n",
    "* 1 ≤ n, m ≤ 100 \n",
    "* 0 ≤ the number of cheese pieces ≤ 10 \n",
    "* 1 ≤ x ≤ n \n",
    "* 1 ≤ y ≤ m "
   ]
  },
  {
   "cell_type": "code",
   "execution_count": 5,
   "metadata": {},
   "outputs": [
    {
     "name": "stdout",
     "output_type": "stream",
     "text": [
      "MinMoves Function\n"
     ]
    }
   ],
   "source": [
    "def minMoves(array_of_integers=None, x=None, y=None):\n",
    "    # will return integers\n",
    "    print('MinMoves Function')\n",
    "    \n",
    "minMoves()"
   ]
  },
  {
   "cell_type": "markdown",
   "metadata": {},
   "source": [
    "# Question Number 2"
   ]
  },
  {
   "cell_type": "code",
   "execution_count": 12,
   "metadata": {
    "collapsed": true
   },
   "outputs": [],
   "source": [
    "def s_exp_rep(*args):\n",
    "    # error code E1 - more than 2 Children\n",
    "    # error code E2 - duplicate edges\n",
    "    # error code E3 - cycle present\n",
    "    # error code E4 - multiple roots\n",
    "    # error code E5 - any other errors\n",
    "    # TODO: will return error code\n",
    "    # TODO: or return the tuples in a nested tuples\n",
    "    pass"
   ]
  },
  {
   "cell_type": "markdown",
   "metadata": {},
   "source": [
    "Samples I/O"
   ]
  },
  {
   "cell_type": "code",
   "execution_count": 11,
   "metadata": {},
   "outputs": [],
   "source": [
    "s_exp_rep()"
   ]
  },
  {
   "cell_type": "markdown",
   "metadata": {},
   "source": [
    "# Question Number 3"
   ]
  },
  {
   "cell_type": "markdown",
   "metadata": {},
   "source": [
    "**Constraints**\n",
    "* **text**, **prefix**, and **suffix** contain lowercase English alphabetic letters (i.e., a through z ) only.\n",
    "* 1 ≤ |text|, |prefix|, |suffix| ≤ 5 0 , where |s| denotes the number of characters in some string s .\n",
    "* It is guaranteed that there will always be a substring of **text** that, at minimum, matches either of the following:\n",
    "    * One or more characters at the end of **prefix** String . \n",
    "    * One or more characters at the beginning of **suffix** String "
   ]
  },
  {
   "cell_type": "code",
   "execution_count": 40,
   "metadata": {},
   "outputs": [],
   "source": [
    "def calculateScore(text='ab', prefix_string='b', suffix_string='a'):\n",
    "    # contraints applied\n",
    "    _text = text.lower()\n",
    "    _prefix_string = prefix_string.lower()\n",
    "    _suffix_string = suffix_string.lower()\n",
    "    \n",
    "    \n",
    "    # make sub strings\n",
    "    _sub = []\n",
    "    _prefix_score = 0\n",
    "    _suffix_score = 0\n",
    "    _matched = True\n",
    "    for t in range(len(_text)):\n",
    "        _sub.append(_text[:t+1])\n",
    "    print(_sub)\n",
    "    # a, b, ab\n",
    "    # run loop for every sub strings compare to prefix begining \n",
    "    \n",
    "    # prefix ending should match with sub begining\n",
    "        # suffix match\n",
    "#     if matched:\n",
    "#         return _prefix_score + _suffix_score\n",
    "#     else:\n",
    "#         return 'No match found'"
   ]
  },
  {
   "cell_type": "code",
   "execution_count": 39,
   "metadata": {},
   "outputs": [
    {
     "name": "stdout",
     "output_type": "stream",
     "text": [
      "['n', 'no', 'not', 'noth', 'nothi', 'nothin', 'nothing']\n"
     ]
    }
   ],
   "source": [
    "calculateScore(text='Nothing', prefix_string='bruno', suffix_string='ingenious')"
   ]
  },
  {
   "cell_type": "markdown",
   "metadata": {},
   "source": [
    "# Question Number 4"
   ]
  },
  {
   "cell_type": "code",
   "execution_count": 41,
   "metadata": {
    "collapsed": true
   },
   "outputs": [],
   "source": [
    "def zombieCluster():\n",
    "    pass"
   ]
  },
  {
   "cell_type": "markdown",
   "metadata": {},
   "source": [
    "# Question Number 5"
   ]
  },
  {
   "cell_type": "code",
   "execution_count": 59,
   "metadata": {
    "collapsed": true
   },
   "outputs": [],
   "source": [
    "def checkIP(n, *args):\n",
    "    # ipv 4\n",
    "    def check_ipv4(address):\n",
    "        lst_split_address = address.split(\".\")\n",
    "        slice_split_address = [int(num) for num in lst_split_address[1:]]\n",
    "        is_valid = [0 <= e <= 255 for e in slice_split_address]\n",
    "        if address.count(\".\") != 3:\n",
    "            return False\n",
    "        elif address == \"\":\n",
    "            return False\n",
    "        else:\n",
    "            if all(is_valid):\n",
    "                return True\n",
    "            else:\n",
    "                return False\n",
    "    # ipv 6\n",
    "    def check_ipv6(address):\n",
    "        \n",
    "    for i in range(n):\n",
    "        # check for validity\n",
    "        if check_ipv4(args[i]):\n",
    "            print('IPV4')\n",
    "        else:\n",
    "            print('Neither')\n",
    "#         print(check_ipv4(args[i]))\n",
    "    # determine the ipv4 or ipv6\n",
    "    # check for validity\n",
    "    pass"
   ]
  },
  {
   "cell_type": "code",
   "execution_count": 64,
   "metadata": {},
   "outputs": [
    {
     "name": "stdout",
     "output_type": "stream",
     "text": [
      "Neither\n",
      "IPV4\n",
      "IPV4\n"
     ]
    }
   ],
   "source": [
    "checkIP(3, 'something', '127.0.0.1', '0.0.0.0')"
   ]
  },
  {
   "cell_type": "markdown",
   "metadata": {},
   "source": [
    "# Question Number 6"
   ]
  },
  {
   "cell_type": "code",
   "execution_count": null,
   "metadata": {
    "collapsed": true
   },
   "outputs": [],
   "source": []
  }
 ],
 "metadata": {
  "kernelspec": {
   "display_name": "Python 3",
   "language": "python",
   "name": "python3"
  },
  "language_info": {
   "codemirror_mode": {
    "name": "ipython",
    "version": 3
   },
   "file_extension": ".py",
   "mimetype": "text/x-python",
   "name": "python",
   "nbconvert_exporter": "python",
   "pygments_lexer": "ipython3",
   "version": "3.6.1"
  }
 },
 "nbformat": 4,
 "nbformat_minor": 2
}
