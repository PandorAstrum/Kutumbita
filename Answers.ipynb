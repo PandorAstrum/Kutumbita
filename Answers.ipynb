{
 "cells": [
  {
   "cell_type": "markdown",
   "metadata": {},
   "source": [
    "# Question Number 1"
   ]
  },
  {
   "cell_type": "markdown",
   "metadata": {},
   "source": [
    "**Constraints**\n",
    "* 1 ≤ n, m ≤ 100 \n",
    "* 0 ≤ the number of cheese pieces ≤ 10 \n",
    "* 1 ≤ x ≤ n \n",
    "* 1 ≤ y ≤ m "
   ]
  },
  {
   "cell_type": "code",
   "execution_count": 1,
   "metadata": {
    "collapsed": true,
    "scrolled": true
   },
   "outputs": [],
   "source": [
    "TOTAL_MOVE = 0\n",
    "\n",
    "def minMoves(maze, x, y):\n",
    "    if maze[x][y] == 0:\n",
    "        TOTAL_MOVE += 1\n",
    "        print ('passing path cell at %d,%d'%(x, y))\n",
    "        return True\n",
    "    elif maze[x][y] == 1:\n",
    "        print ('blocked at %d,%d'%(x, y))\n",
    "        return False\n",
    "    elif maze[x][y] == 2:\n",
    "        TOTAL_MOVE += 1\n",
    "        print ('grabing cheese at %d,%d'%(x, y))\n",
    "        return True\n",
    "     \n",
    "    print ('visiting %d,%d' % (x, y))\n",
    " \n",
    "    # mark as visited\n",
    "    maze[x][y] = 2\n",
    " \n",
    "    # explore neighbors clockwise starting by the one on the right\n",
    "    if ((x < len(maze)-1 and minMoves(maze, x+1, y))\n",
    "        or (y > 0 and minMoves(maze, x, y-1))\n",
    "        or (x > 0 and minMoves(maze, x-1, y))\n",
    "        or (y < len(maze)-1 and minMoves(maze, x, y+1))):\n",
    "        return True\n",
    " \n",
    "    return TOTAL_MOVE\n",
    "\n",
    "    # will return integers"
   ]
  },
  {
   "cell_type": "markdown",
   "metadata": {},
   "source": [
    "**Sample I/O**\n",
    "\n",
    "maze = [[0, 2, 0], [0, 0, 1], [1, 1, 1]]\n",
    "\n",
    "x = 1 y = 1"
   ]
  },
  {
   "cell_type": "code",
   "execution_count": 2,
   "metadata": {
    "scrolled": false
   },
   "outputs": [
    {
     "ename": "UnboundLocalError",
     "evalue": "local variable 'TOTAL_MOVE' referenced before assignment",
     "output_type": "error",
     "traceback": [
      "\u001b[1;31m---------------------------------------------------------------------------\u001b[0m",
      "\u001b[1;31mUnboundLocalError\u001b[0m                         Traceback (most recent call last)",
      "\u001b[1;32m<ipython-input-2-ad613504d04c>\u001b[0m in \u001b[0;36m<module>\u001b[1;34m()\u001b[0m\n\u001b[1;32m----> 1\u001b[1;33m \u001b[0mprint\u001b[0m\u001b[1;33m(\u001b[0m\u001b[0mminMoves\u001b[0m\u001b[1;33m(\u001b[0m\u001b[0mmaze\u001b[0m\u001b[1;33m=\u001b[0m\u001b[1;33m[\u001b[0m\u001b[1;33m[\u001b[0m\u001b[1;36m0\u001b[0m\u001b[1;33m,\u001b[0m \u001b[1;36m2\u001b[0m\u001b[1;33m,\u001b[0m \u001b[1;36m0\u001b[0m\u001b[1;33m]\u001b[0m\u001b[1;33m,\u001b[0m \u001b[1;33m[\u001b[0m\u001b[1;36m0\u001b[0m\u001b[1;33m,\u001b[0m \u001b[1;36m0\u001b[0m\u001b[1;33m,\u001b[0m \u001b[1;36m1\u001b[0m\u001b[1;33m]\u001b[0m\u001b[1;33m,\u001b[0m \u001b[1;33m[\u001b[0m\u001b[1;36m1\u001b[0m\u001b[1;33m,\u001b[0m \u001b[1;36m1\u001b[0m\u001b[1;33m,\u001b[0m \u001b[1;36m1\u001b[0m\u001b[1;33m]\u001b[0m\u001b[1;33m]\u001b[0m\u001b[1;33m,\u001b[0m \u001b[0mx\u001b[0m\u001b[1;33m=\u001b[0m\u001b[1;36m1\u001b[0m\u001b[1;33m,\u001b[0m \u001b[0my\u001b[0m\u001b[1;33m=\u001b[0m\u001b[1;36m1\u001b[0m\u001b[1;33m)\u001b[0m\u001b[1;33m)\u001b[0m\u001b[1;33m\u001b[0m\u001b[0m\n\u001b[0m",
      "\u001b[1;32m<ipython-input-1-9243b4e2c88d>\u001b[0m in \u001b[0;36mminMoves\u001b[1;34m(maze, x, y)\u001b[0m\n\u001b[0;32m      3\u001b[0m \u001b[1;32mdef\u001b[0m \u001b[0mminMoves\u001b[0m\u001b[1;33m(\u001b[0m\u001b[0mmaze\u001b[0m\u001b[1;33m,\u001b[0m \u001b[0mx\u001b[0m\u001b[1;33m,\u001b[0m \u001b[0my\u001b[0m\u001b[1;33m)\u001b[0m\u001b[1;33m:\u001b[0m\u001b[1;33m\u001b[0m\u001b[0m\n\u001b[0;32m      4\u001b[0m     \u001b[1;32mif\u001b[0m \u001b[0mmaze\u001b[0m\u001b[1;33m[\u001b[0m\u001b[0mx\u001b[0m\u001b[1;33m]\u001b[0m\u001b[1;33m[\u001b[0m\u001b[0my\u001b[0m\u001b[1;33m]\u001b[0m \u001b[1;33m==\u001b[0m \u001b[1;36m0\u001b[0m\u001b[1;33m:\u001b[0m\u001b[1;33m\u001b[0m\u001b[0m\n\u001b[1;32m----> 5\u001b[1;33m         \u001b[0mTOTAL_MOVE\u001b[0m \u001b[1;33m+=\u001b[0m \u001b[1;36m1\u001b[0m\u001b[1;33m\u001b[0m\u001b[0m\n\u001b[0m\u001b[0;32m      6\u001b[0m         \u001b[0mprint\u001b[0m \u001b[1;33m(\u001b[0m\u001b[1;34m'passing path cell at %d,%d'\u001b[0m\u001b[1;33m%\u001b[0m\u001b[1;33m(\u001b[0m\u001b[0mx\u001b[0m\u001b[1;33m,\u001b[0m \u001b[0my\u001b[0m\u001b[1;33m)\u001b[0m\u001b[1;33m)\u001b[0m\u001b[1;33m\u001b[0m\u001b[0m\n\u001b[0;32m      7\u001b[0m         \u001b[1;32mreturn\u001b[0m \u001b[1;32mTrue\u001b[0m\u001b[1;33m\u001b[0m\u001b[0m\n",
      "\u001b[1;31mUnboundLocalError\u001b[0m: local variable 'TOTAL_MOVE' referenced before assignment"
     ]
    }
   ],
   "source": [
    "print(minMoves(maze=[[0, 2, 0], [0, 0, 1], [1, 1, 1]], x=1, y=1))"
   ]
  },
  {
   "cell_type": "markdown",
   "metadata": {},
   "source": [
    "# Question Number 2"
   ]
  },
  {
   "cell_type": "markdown",
   "metadata": {},
   "source": [
    "** Constraints **\n",
    "1. There is no specific sequence in which the input (parent,child) pairs are represented.\n",
    "2. The name space is composed of upper case single letter (AZ) so the maximum size is 26 nodes. \n",
    "3. Error cases are to be tagged in the order they appear on the list. For example, if one input pair raises both error cases 1 and 2, the output must be E1."
   ]
  },
  {
   "cell_type": "code",
   "execution_count": 3,
   "metadata": {},
   "outputs": [
    {
     "ename": "SyntaxError",
     "evalue": "invalid syntax (<ipython-input-3-e7bf6e98332a>, line 2)",
     "output_type": "error",
     "traceback": [
      "\u001b[1;36m  File \u001b[1;32m\"<ipython-input-3-e7bf6e98332a>\"\u001b[1;36m, line \u001b[1;32m2\u001b[0m\n\u001b[1;33m    S-exp(node) = (node->val (S-exp(node->first_child))(S-exp(node->second_child))),\u001b[0m\n\u001b[1;37m                        ^\u001b[0m\n\u001b[1;31mSyntaxError\u001b[0m\u001b[1;31m:\u001b[0m invalid syntax\n"
     ]
    }
   ],
   "source": [
    "def s_exp_rep(*args):\n",
    "    S-exp(node) = (node->val (S-exp(node->first_child))(S-exp(node->second_child))),\n",
    "    if node != NULL = \"\", node == NULL   where, first_child->val < second_child->val\n",
    "    # error code E1 - more than 2 Children\n",
    "    # error code E2 - duplicate edges\n",
    "    # error code E3 - cycle present\n",
    "    # error code E4 - multiple roots\n",
    "    # error code E5 - any other errors\n",
    "    # TODO: will return error code\n",
    "    # TODO: or return the tuples in a nested tuples\n",
    "    pass"
   ]
  },
  {
   "cell_type": "markdown",
   "metadata": {},
   "source": [
    "** Sample I/O **\n",
    "\n",
    "(B,D) (D,E) (A,B) (C,F) (E,G) (A,C)"
   ]
  },
  {
   "cell_type": "code",
   "execution_count": 4,
   "metadata": {},
   "outputs": [
    {
     "ename": "NameError",
     "evalue": "name 's_exp_rep' is not defined",
     "output_type": "error",
     "traceback": [
      "\u001b[1;31m---------------------------------------------------------------------------\u001b[0m",
      "\u001b[1;31mNameError\u001b[0m                                 Traceback (most recent call last)",
      "\u001b[1;32m<ipython-input-4-1c7edc684620>\u001b[0m in \u001b[0;36m<module>\u001b[1;34m()\u001b[0m\n\u001b[1;32m----> 1\u001b[1;33m \u001b[0ms_exp_rep\u001b[0m\u001b[1;33m(\u001b[0m\u001b[1;33m)\u001b[0m\u001b[1;33m\u001b[0m\u001b[0m\n\u001b[0m",
      "\u001b[1;31mNameError\u001b[0m: name 's_exp_rep' is not defined"
     ]
    }
   ],
   "source": [
    "s_exp_rep()"
   ]
  },
  {
   "cell_type": "markdown",
   "metadata": {},
   "source": [
    "# Question Number 3"
   ]
  },
  {
   "cell_type": "markdown",
   "metadata": {},
   "source": [
    "**Constraints**\n",
    "* **text**, **prefix**, and **suffix** contain lowercase English alphabetic letters (i.e., a through z ) only.\n",
    "* 1 ≤ |text|, |prefix|, |suffix| ≤ 5 0 , where |s| denotes the number of characters in some string s .\n",
    "* It is guaranteed that there will always be a substring of **text** that, at minimum, matches either of the following:\n",
    "    * One or more characters at the end of **prefix** String . \n",
    "    * One or more characters at the beginning of **suffix** String "
   ]
  },
  {
   "cell_type": "code",
   "execution_count": 9,
   "metadata": {
    "collapsed": true
   },
   "outputs": [],
   "source": [
    "def calculateScore(text='ab', prefix_string='b', suffix_string='a'):\n",
    "    # constraints applied\n",
    "    _text = text.lower()\n",
    "    _prefix_string = prefix_string.lower()\n",
    "    _suffix_string = suffix_string.lower()\n",
    "    \n",
    "#     if (len(_text) < 1 or len(_text) >= 50) and\n",
    "#         (len(_prefix_string) < 1 or len(_prefix_string) >= 50)\n",
    "#         (len(_suffix_string) < 1 or len(_suffix_string) >= 50):\n",
    "#             print('check parameters. everything should be in between 1 to 50 char')\n",
    "#     else:\n",
    "#         print()\n",
    "    # make sub strings\n",
    "    _sub = []\n",
    "    _prefix_score = 0\n",
    "    _suffix_score = 0\n",
    "    _matched = True\n",
    "    for t in range(len(_text)):\n",
    "        _sub.append(_text[:t+1])\n",
    "    print(_sub)\n",
    "    # a, b, ab\n",
    "    # run loop for every sub strings compare to prefix begining \n",
    "    \n",
    "    # prefix ending should match with sub begining\n",
    "        # suffix match\n",
    "#     if matched:\n",
    "#         return _prefix_score + _suffix_score\n",
    "#     else:\n",
    "#         return 'No match found'"
   ]
  },
  {
   "cell_type": "markdown",
   "metadata": {},
   "source": [
    "** Sample I/O **\n",
    "\n",
    "nothing bruno ingenious"
   ]
  },
  {
   "cell_type": "code",
   "execution_count": 10,
   "metadata": {},
   "outputs": [
    {
     "name": "stdout",
     "output_type": "stream",
     "text": [
      "['n', 'no', 'not', 'noth', 'nothi', 'nothin', 'nothing']\n"
     ]
    }
   ],
   "source": [
    "calculateScore(text='Nothing', prefix_string='bruno', suffix_string='ingenious')"
   ]
  },
  {
   "cell_type": "markdown",
   "metadata": {},
   "source": [
    "# Question Number 4"
   ]
  },
  {
   "cell_type": "markdown",
   "metadata": {},
   "source": [
    "** Constraints **\n",
    "* 1 ≤ n ≤ 300\n",
    "* 0 ≤ i < n \n",
    "* |zombies| = n\n",
    "* Each z contains a binary string of n zeroes and ones. It is a square matrix."
   ]
  },
  {
   "cell_type": "code",
   "execution_count": 11,
   "metadata": {
    "collapsed": true
   },
   "outputs": [],
   "source": [
    "def depth_search(j, exploited, zombies, row):\n",
    "    for k in range(row):\n",
    "        if zombies[j][k] == '1' and exploited[j][k] == False and exploited[k][j] == False:\n",
    "            exploited[j][k] = True\n",
    "            exploited[k][j] = True\n",
    "            depth_search(k,exploited,zombies, row)\n",
    "\n",
    "def zombieCluster(zombies):\n",
    "    _row = len(zombies)\n",
    "    _col = len(zombies[0])\n",
    "    _count = 0\n",
    "    if _row == 0 or _col == 0:\n",
    "        return count\n",
    "    exploited = [[False for j in range(_col)]for i in range(_row)]\n",
    "    for i in range(_row):\n",
    "        _bol = False\n",
    "        for j in range(_row):\n",
    "            if zombies[i][j] == '1' and exploited[i][j] == False and exploited[j][i] == False:\n",
    "                exploited[i][j] = True\n",
    "                exploited[j][i] = True\n",
    "                depth_search(j,exploited,zombies, _row) \n",
    "                if _bol == False:\n",
    "                    _count += 1\n",
    "                    _bol = True\n",
    "    return _count"
   ]
  },
  {
   "cell_type": "markdown",
   "metadata": {},
   "source": [
    "** Sample I/O **\n",
    "\n",
    "zombies = [\"1100\", \"1110\", \"0110\", \"0001\"]"
   ]
  },
  {
   "cell_type": "code",
   "execution_count": 12,
   "metadata": {},
   "outputs": [
    {
     "data": {
      "text/plain": [
       "2"
      ]
     },
     "execution_count": 12,
     "metadata": {},
     "output_type": "execute_result"
    }
   ],
   "source": [
    "zombies = [\"1100\" ,\"1110\", \"0110\", \"0001\"]\n",
    "zombieCluster(zombies)"
   ]
  },
  {
   "cell_type": "markdown",
   "metadata": {},
   "source": [
    "# Question Number 5"
   ]
  },
  {
   "cell_type": "markdown",
   "metadata": {},
   "source": [
    "** Constraints **\n",
    "* 1 ≤ n ≤ 50 \n",
    "* 1 ≤ ip ≤ 50 \n",
    "* It is guaranteed that any string containing a valid IP v 4 or IP v 6 address has no leading or trailing whitespace"
   ]
  },
  {
   "cell_type": "code",
   "execution_count": 13,
   "metadata": {
    "collapsed": true
   },
   "outputs": [],
   "source": [
    "import ipaddress\n",
    "\n",
    "def checkIP(n, *args):\n",
    "    # applying constraints \n",
    "    if (n < 1 or n >= 50) and (len(args) < 1 or len(args) >= 50):\n",
    "        print('You hit the limit try between 1 and 49')\n",
    "    elif n != len(args):\n",
    "        print('Add or substract more parameters')\n",
    "    else:\n",
    "        for i in range(n):\n",
    "            # loop through each args \n",
    "            try:\n",
    "                # check for ip versions\n",
    "                _ip = ipaddress.ip_address(args[i])\n",
    "                if _ip.version == 4:\n",
    "                    print('IPv4')\n",
    "                elif _ip.version == 6:\n",
    "                    print('IPv6')\n",
    "            except ValueError:\n",
    "                print('Neither')"
   ]
  },
  {
   "cell_type": "markdown",
   "metadata": {},
   "source": [
    "** Sample I/O **\n",
    "\n",
    "3, This line has junk text, 121.18.19.20, 2001:0db8:0000:0000:0000:ff00:0042:8329"
   ]
  },
  {
   "cell_type": "code",
   "execution_count": 14,
   "metadata": {
    "scrolled": true
   },
   "outputs": [
    {
     "name": "stdout",
     "output_type": "stream",
     "text": [
      "Neither\n",
      "IPv4\n",
      "IPv6\n"
     ]
    }
   ],
   "source": [
    "checkIP(3, 'This line has junk text,', '121.18.19.20', '2001:0db8:0000:0000:0000:ff00:0042:8329')"
   ]
  },
  {
   "cell_type": "markdown",
   "metadata": {},
   "source": [
    "# Question Number 6"
   ]
  },
  {
   "cell_type": "markdown",
   "metadata": {},
   "source": [
    "** Constraints **\n",
    "* 1 ≤ n ≤ 50\n",
    "* 1 ≤ lengths ≤ 10\n",
    "* 1 ≤ salePrice, costPerCut ≤ 1000"
   ]
  },
  {
   "cell_type": "code",
   "execution_count": 17,
   "metadata": {
    "collapsed": true
   },
   "outputs": [],
   "source": [
    "def profit(cost_per_cut, sale_price, n):\n",
    "    _max_length = 0\n",
    "    for i in n:\n",
    "        if i > _max_length:\n",
    "            _max_length = i;\n",
    "\n",
    "    _max_profit = 0\n",
    "    \n",
    "    jj = 1\n",
    "    while jj < _max_length:\n",
    "        sum_of_lengths = 0\n",
    "        sum_of_cut_counts = 0\n",
    "        sum_of_cut_wastes = 0\n",
    "        for i in n:\n",
    "            sum_of_lengths += i\n",
    "            if i % jj == 0:\n",
    "                sum_of_cut_counts += i/jj - 1\n",
    "            else:\n",
    "                sum_of_cut_counts += i/jj\n",
    "            \n",
    "            sum_of_cut_wastes += i%jj\n",
    "            \n",
    "            _profit = sum_of_lengths * sale_price - sum_of_cut_counts * cost_per_cut - sum_of_cut_wastes * sale_price\n",
    "            if _profit > _max_profit:\n",
    "                _max_profit = _profit\n",
    "        jj += 1\n",
    "\n",
    "    return _max_profit;\n",
    "#     total_profit = total_uniform_rods * sale_length * sale_price − total_cuts * cost_per_cut"
   ]
  },
  {
   "cell_type": "code",
   "execution_count": 19,
   "metadata": {},
   "outputs": [
    {
     "name": "stdout",
     "output_type": "stream",
     "text": [
      "1768.6666666666667\n",
      "hello world\n"
     ]
    }
   ],
   "source": [
    "print(profit(1, 10, [26, 103, 59]))"
   ]
  },
  {
   "cell_type": "markdown",
   "metadata": {},
   "source": [
    "# Question Number 7"
   ]
  },
  {
   "cell_type": "markdown",
   "metadata": {},
   "source": [
    "** Constraints **\n",
    "* 1 ≤ n ≤ 50 \n",
    "* Each words consists of one or more of the following characters: lowercase English alphabetic letters ([a-z]), digits ([0-9]), colons (:), forward slashes (/), and backward slashes (\\) only.\n",
    "* The length of each w o r d s is no more than 5 × 1 0 ."
   ]
  },
  {
   "cell_type": "code",
   "execution_count": null,
   "metadata": {
    "collapsed": true
   },
   "outputs": [],
   "source": [
    "def answers7():\n",
    "    pass"
   ]
  },
  {
   "cell_type": "markdown",
   "metadata": {},
   "source": [
    "# Question Number 8"
   ]
  },
  {
   "cell_type": "markdown",
   "metadata": {},
   "source": [
    "** Constraints **\n",
    "* 2 ≤ friends_nodes ≤ 100\n",
    "* 1 ≤ friends_edges ≤ min ( 2 0 0, / )\n",
    "* 1 ≤ friends_weight ≤ 100\n",
    "* 1 ≤ friends_from, friends_to ≤ friends_nodes\n",
    "* 1 ≤ friends_weight ≤ friends_edges \n",
    "* friends_from ≠ friends_to\n",
    "* Each pair of friends can be connected by zero or more types of tokens."
   ]
  },
  {
   "cell_type": "code",
   "execution_count": null,
   "metadata": {
    "collapsed": true
   },
   "outputs": [],
   "source": [
    "def maxToken(friends_node, friends_from, friends_to, friends_weight):\n",
    "    pass"
   ]
  },
  {
   "cell_type": "markdown",
   "metadata": {},
   "source": [
    "** Sample I/O **\n",
    "\n"
   ]
  },
  {
   "cell_type": "markdown",
   "metadata": {},
   "source": [
    "# Question Number 9"
   ]
  },
  {
   "cell_type": "markdown",
   "metadata": {},
   "source": [
    "** Constraints **\n",
    "* 3 ≤ g_nodes ≤ 10\n",
    "* 1 ≤ g_edges ≤ min ( 10 ,  ⁄ )\n",
    "* 1 ≤ g_weight[i] ≤ 10"
   ]
  },
  {
   "cell_type": "code",
   "execution_count": 21,
   "metadata": {
    "collapsed": true
   },
   "outputs": [],
   "source": [
    "def minCost(g_nodes, g_from, g_to, g_weight):\n",
    "    # an integers g_nodes\n",
    "    # an array of integers g_from\n",
    "    # an array of integers g_to\n",
    "    # an array of integers g_weight\n",
    "    pass"
   ]
  },
  {
   "cell_type": "markdown",
   "metadata": {},
   "source": [
    "** Sample I/O **\n",
    "\n"
   ]
  },
  {
   "cell_type": "markdown",
   "metadata": {},
   "source": [
    "# Question Number 10"
   ]
  },
  {
   "cell_type": "markdown",
   "metadata": {},
   "source": [
    "** Constraints **\n",
    "* 1 ≤ n ≤ 2 × 10\n",
    "* 1 ≤ k ≤ 4 × 10"
   ]
  },
  {
   "cell_type": "code",
   "execution_count": 41,
   "metadata": {
    "collapsed": true
   },
   "outputs": [],
   "source": [
    "def maxMoney(n, k):\n",
    "    _sum_collected = 0\n",
    "    for i in range(1, n+1):\n",
    "        _sum_collected += i\n",
    "        if _sum_collected == k:\n",
    "            print(f'neglegible {_sum_collected}')\n",
    "            _sum_collected -= i\n",
    "    return _sum_collected"
   ]
  },
  {
   "cell_type": "markdown",
   "metadata": {},
   "source": [
    "** Sample I/O **\n",
    "\n",
    "n = 2 \n",
    "k = 2"
   ]
  },
  {
   "cell_type": "code",
   "execution_count": 42,
   "metadata": {},
   "outputs": [
    {
     "name": "stdout",
     "output_type": "stream",
     "text": [
      "neglegible 3\n"
     ]
    },
    {
     "data": {
      "text/plain": [
       "4"
      ]
     },
     "execution_count": 42,
     "metadata": {},
     "output_type": "execute_result"
    }
   ],
   "source": [
    "maxMoney(3, 3)"
   ]
  },
  {
   "cell_type": "markdown",
   "metadata": {},
   "source": [
    "# Question Number 11"
   ]
  },
  {
   "cell_type": "markdown",
   "metadata": {},
   "source": [
    "** Constraints **"
   ]
  },
  {
   "cell_type": "code",
   "execution_count": 81,
   "metadata": {},
   "outputs": [],
   "source": [
    "def superStack(operations):\n",
    "    _stack = []\n",
    "    for i in operations:\n",
    "        if 'pop' in i:\n",
    "            _stack.pop()\n",
    "        elif 'push' in i:\n",
    "            _sub = int(i.split(' ')[1])\n",
    "            _stack.append(_sub)\n",
    "            \n",
    "        elif 'inc' in i:\n",
    "            _e = int(i.split(' ')[1])\n",
    "            _k = int(i.split(' ')[2])\n",
    "            for j in range(_e):\n",
    "                _stack[j] += _k\n",
    "\n",
    "        if not _stack:\n",
    "            print('Empty')\n",
    "        else:\n",
    "            print(_stack[len(_stack)-1])"
   ]
  },
  {
   "cell_type": "markdown",
   "metadata": {},
   "source": [
    "** Sample I/O **\n",
    "\n"
   ]
  },
  {
   "cell_type": "code",
   "execution_count": 82,
   "metadata": {},
   "outputs": [
    {
     "name": "stdout",
     "output_type": "stream",
     "text": [
      "4\n",
      "Empty\n",
      "3\n",
      "5\n",
      "2\n",
      "3\n",
      "6\n",
      "1\n",
      "1\n",
      "4\n",
      "1\n",
      "8\n"
     ]
    }
   ],
   "source": [
    "superStack(['push 4','pop', 'push 3', 'push 5', 'push 2', 'inc 3 1', 'pop', 'push 1', 'inc 2 2', 'push 4', 'pop', 'pop'])"
   ]
  },
  {
   "cell_type": "markdown",
   "metadata": {},
   "source": [
    "# Question Number 12"
   ]
  },
  {
   "cell_type": "markdown",
   "metadata": {},
   "source": [
    "** Constraints **"
   ]
  },
  {
   "cell_type": "code",
   "execution_count": null,
   "metadata": {
    "collapsed": true
   },
   "outputs": [],
   "source": [
    "def slotGame():\n",
    "    pass"
   ]
  },
  {
   "cell_type": "markdown",
   "metadata": {},
   "source": [
    "** Sample I/O **\n",
    "\n"
   ]
  },
  {
   "cell_type": "markdown",
   "metadata": {},
   "source": [
    "# Question Number 13"
   ]
  },
  {
   "cell_type": "markdown",
   "metadata": {},
   "source": [
    "** Constraints **"
   ]
  },
  {
   "cell_type": "code",
   "execution_count": 87,
   "metadata": {},
   "outputs": [],
   "source": [
    "def spt_max_profit(t, n):\n",
    "    for i in range(t):    \n",
    "        shr = map(int,n.split())    \n",
    "        ans  = 0    \n",
    "        locmax = shr[n-1]\n",
    "        for i in range(n-2,-1,-1):\n",
    "            if shr[i] < locmax:\n",
    "                ans += locmax - shr[i]\n",
    "            else:\n",
    "                locmax = shr[i]\n",
    "        print (ans)\n",
    "#     while t > 0:\n",
    "#         _price = [n]\n",
    "#         _max_right = [n-1] \n",
    "#         for i in n:\n",
    "#             _price[i]\n",
    "            \n",
    "            \n",
    "# \t\tfor(int i = 0; i < N; i++) {\n",
    "# \t\t\tcin>>price[i];\n",
    "# \t\t}\n",
    "# \t\t// Corner case\n",
    "# \t\tif(N == 1) {\n",
    "# \t\t\tcout<<\"0\\n\"; // You can't make any profit with just one stock price\n",
    "# \t\t\tcontinue;\n",
    "# \t\t}\n",
    "# \t\t// Main algorithm\n",
    "# \t\t// 1. Fill maxRight array so we know the largest stock price to the right of every element\n",
    "# \t\tmaxRight[N-2] = price[N-1];\n",
    "# \t\tfor(int i = N-3; i >= 0; i--) {\n",
    "# \t\t\tif(price[i+1] > maxRight[i+1]) {\n",
    "# \t\t\t\tmaxRight[i] = price[i+1];\n",
    "# \t\t\t} else {\n",
    "# \t\t\t\tmaxRight[i] = maxRight[i+1];\n",
    "# \t\t\t}\n",
    "# \t\t}\n",
    "# \t\tlong long profit = 0;\n",
    "# \t\t// 2. Calculate the total profit we can make (buy a stock if there's a larger price to the right)\n",
    "# \t\tfor(int i = 0; i < N-1; i++) {\n",
    "# \t\t\tif(maxRight[i] > price[i]) {\n",
    "# \t\t\t\tprofit += (maxRight[i] - price[i]);\n",
    "# \t\t\t}\n",
    "# \t\t}\n",
    "# \t\tcout<<profit<<\"\\n\";\n",
    "# \t\tT--;\n",
    "# \t}\n",
    "#     return 0;\n",
    "# }\n",
    "#     pass"
   ]
  },
  {
   "cell_type": "markdown",
   "metadata": {},
   "source": [
    "** Sample I/O **\n",
    "\n"
   ]
  },
  {
   "cell_type": "code",
   "execution_count": 86,
   "metadata": {},
   "outputs": [
    {
     "ename": "NameError",
     "evalue": "name 'xrange' is not defined",
     "output_type": "error",
     "traceback": [
      "\u001b[1;31m---------------------------------------------------------------------------\u001b[0m",
      "\u001b[1;31mNameError\u001b[0m                                 Traceback (most recent call last)",
      "\u001b[1;32m<ipython-input-86-26975414d38b>\u001b[0m in \u001b[0;36m<module>\u001b[1;34m()\u001b[0m\n\u001b[0;32m      1\u001b[0m \u001b[0mn\u001b[0m \u001b[1;33m=\u001b[0m \u001b[1;33m[\u001b[0m\u001b[1;33m[\u001b[0m\u001b[1;34m\"3\"\u001b[0m\u001b[1;33m,\u001b[0m \u001b[1;34m\"5\"\u001b[0m\u001b[1;33m]\u001b[0m\u001b[1;33m,\u001b[0m \u001b[1;33m[\u001b[0m\u001b[1;34m\"3\"\u001b[0m\u001b[1;33m,\u001b[0m \u001b[1;34m\"2\"\u001b[0m\u001b[1;33m]\u001b[0m\u001b[1;33m,\u001b[0m \u001b[1;33m[\u001b[0m\u001b[1;34m\"3\"\u001b[0m\u001b[1;33m,\u001b[0m \u001b[1;34m\"1\"\u001b[0m\u001b[1;33m]\u001b[0m\u001b[1;33m]\u001b[0m\u001b[1;33m\u001b[0m\u001b[0m\n\u001b[1;32m----> 2\u001b[1;33m \u001b[0mspt_max_profit\u001b[0m\u001b[1;33m(\u001b[0m\u001b[1;36m3\u001b[0m\u001b[1;33m,\u001b[0m \u001b[0mn\u001b[0m\u001b[1;33m)\u001b[0m\u001b[1;33m\u001b[0m\u001b[0m\n\u001b[0m\u001b[0;32m      3\u001b[0m \u001b[1;33m\u001b[0m\u001b[0m\n",
      "\u001b[1;32m<ipython-input-84-e8907964287b>\u001b[0m in \u001b[0;36mspt_max_profit\u001b[1;34m(t, n)\u001b[0m\n\u001b[0;32m      1\u001b[0m \u001b[1;32mdef\u001b[0m \u001b[0mspt_max_profit\u001b[0m\u001b[1;33m(\u001b[0m\u001b[0mt\u001b[0m\u001b[1;33m,\u001b[0m \u001b[0mn\u001b[0m\u001b[1;33m)\u001b[0m\u001b[1;33m:\u001b[0m\u001b[1;33m\u001b[0m\u001b[0m\n\u001b[1;32m----> 2\u001b[1;33m     \u001b[1;32mfor\u001b[0m \u001b[0mi\u001b[0m \u001b[1;32min\u001b[0m \u001b[0mxrange\u001b[0m\u001b[1;33m(\u001b[0m\u001b[0mt\u001b[0m\u001b[1;33m)\u001b[0m\u001b[1;33m:\u001b[0m\u001b[1;33m\u001b[0m\u001b[0m\n\u001b[0m\u001b[0;32m      3\u001b[0m         \u001b[0mshr\u001b[0m \u001b[1;33m=\u001b[0m \u001b[0mmap\u001b[0m\u001b[1;33m(\u001b[0m\u001b[0mint\u001b[0m\u001b[1;33m,\u001b[0m\u001b[0mn\u001b[0m\u001b[1;33m.\u001b[0m\u001b[0msplit\u001b[0m\u001b[1;33m(\u001b[0m\u001b[1;33m)\u001b[0m\u001b[1;33m)\u001b[0m\u001b[1;33m\u001b[0m\u001b[0m\n\u001b[0;32m      4\u001b[0m         \u001b[0mans\u001b[0m  \u001b[1;33m=\u001b[0m \u001b[1;36m0\u001b[0m\u001b[1;33m\u001b[0m\u001b[0m\n\u001b[0;32m      5\u001b[0m         \u001b[0mlocmax\u001b[0m \u001b[1;33m=\u001b[0m \u001b[0mshr\u001b[0m\u001b[1;33m[\u001b[0m\u001b[0mn\u001b[0m\u001b[1;33m-\u001b[0m\u001b[1;36m1\u001b[0m\u001b[1;33m]\u001b[0m\u001b[1;33m\u001b[0m\u001b[0m\n",
      "\u001b[1;31mNameError\u001b[0m: name 'xrange' is not defined"
     ]
    }
   ],
   "source": [
    "n = [[\"3\", \"5\"], [\"3\", \"2\"], [\"3\", \"1\"]]\n",
    "spt_max_profit(3, n)\n",
    " "
   ]
  },
  {
   "cell_type": "markdown",
   "metadata": {},
   "source": [
    "# Question Number 14"
   ]
  },
  {
   "cell_type": "markdown",
   "metadata": {},
   "source": [
    "** Constraints **"
   ]
  },
  {
   "cell_type": "code",
   "execution_count": null,
   "metadata": {
    "collapsed": true
   },
   "outputs": [],
   "source": [
    "def answer14():\n",
    "    pass"
   ]
  },
  {
   "cell_type": "markdown",
   "metadata": {},
   "source": [
    "** Sample I/O **\n",
    "\n"
   ]
  },
  {
   "cell_type": "markdown",
   "metadata": {},
   "source": [
    "# Question Number 15"
   ]
  },
  {
   "cell_type": "markdown",
   "metadata": {},
   "source": [
    "** Constraints **"
   ]
  },
  {
   "cell_type": "code",
   "execution_count": null,
   "metadata": {
    "collapsed": true
   },
   "outputs": [],
   "source": [
    "def answer15():\n",
    "    pass"
   ]
  },
  {
   "cell_type": "markdown",
   "metadata": {},
   "source": [
    "** Sample I/O **\n",
    "\n"
   ]
  },
  {
   "cell_type": "markdown",
   "metadata": {},
   "source": [
    "# Question Number 16"
   ]
  },
  {
   "cell_type": "markdown",
   "metadata": {},
   "source": [
    "** Constraints **"
   ]
  },
  {
   "cell_type": "code",
   "execution_count": null,
   "metadata": {
    "collapsed": true
   },
   "outputs": [],
   "source": [
    "def answer16():\n",
    "    pass"
   ]
  },
  {
   "cell_type": "markdown",
   "metadata": {},
   "source": [
    "** Sample I/O **\n",
    "\n"
   ]
  },
  {
   "cell_type": "markdown",
   "metadata": {},
   "source": [
    "# Question Number 17"
   ]
  },
  {
   "cell_type": "markdown",
   "metadata": {},
   "source": [
    "** Constraints **"
   ]
  },
  {
   "cell_type": "code",
   "execution_count": null,
   "metadata": {
    "collapsed": true
   },
   "outputs": [],
   "source": [
    "def answer17():\n",
    "    pass"
   ]
  },
  {
   "cell_type": "markdown",
   "metadata": {},
   "source": [
    "** Sample I/O **\n",
    "\n"
   ]
  },
  {
   "cell_type": "markdown",
   "metadata": {},
   "source": [
    "# Question Number 18"
   ]
  },
  {
   "cell_type": "markdown",
   "metadata": {},
   "source": [
    "** Constraints **"
   ]
  },
  {
   "cell_type": "code",
   "execution_count": null,
   "metadata": {
    "collapsed": true
   },
   "outputs": [],
   "source": [
    "def answer18():\n",
    "    pass"
   ]
  },
  {
   "cell_type": "markdown",
   "metadata": {},
   "source": [
    "** Sample I/O **\n",
    "\n"
   ]
  },
  {
   "cell_type": "markdown",
   "metadata": {},
   "source": [
    "# Question Number 19"
   ]
  },
  {
   "cell_type": "markdown",
   "metadata": {},
   "source": [
    "** Constraints **"
   ]
  },
  {
   "cell_type": "code",
   "execution_count": null,
   "metadata": {
    "collapsed": true
   },
   "outputs": [],
   "source": [
    "def answer19():\n",
    "    pass"
   ]
  },
  {
   "cell_type": "markdown",
   "metadata": {},
   "source": [
    "** Sample I/O **\n",
    "\n"
   ]
  },
  {
   "cell_type": "markdown",
   "metadata": {},
   "source": [
    "# Question Number 20"
   ]
  },
  {
   "cell_type": "markdown",
   "metadata": {},
   "source": [
    "** Constraints **"
   ]
  },
  {
   "cell_type": "code",
   "execution_count": null,
   "metadata": {
    "collapsed": true
   },
   "outputs": [],
   "source": [
    "def answer8():\n",
    "    pass"
   ]
  },
  {
   "cell_type": "markdown",
   "metadata": {},
   "source": [
    "** Sample I/O **\n",
    "\n"
   ]
  },
  {
   "cell_type": "code",
   "execution_count": null,
   "metadata": {
    "collapsed": true
   },
   "outputs": [],
   "source": []
  }
 ],
 "metadata": {
  "kernelspec": {
   "display_name": "Python 3",
   "language": "python",
   "name": "python3"
  },
  "language_info": {
   "codemirror_mode": {
    "name": "ipython",
    "version": 3
   },
   "file_extension": ".py",
   "mimetype": "text/x-python",
   "name": "python",
   "nbconvert_exporter": "python",
   "pygments_lexer": "ipython3",
   "version": "3.6.1"
  }
 },
 "nbformat": 4,
 "nbformat_minor": 2
}
