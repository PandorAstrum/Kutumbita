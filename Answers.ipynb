{
 "cells": [
  {
   "cell_type": "markdown",
   "metadata": {},
   "source": [
    "# Question Number 1 (Not solved)"
   ]
  },
  {
   "cell_type": "markdown",
   "metadata": {},
   "source": [
    "**Constraints**\n",
    "* 1 ≤ n, m ≤ 100 \n",
    "* 0 ≤ the number of cheese pieces ≤ 10 \n",
    "* 1 ≤ x ≤ n \n",
    "* 1 ≤ y ≤ m "
   ]
  },
  {
   "cell_type": "code",
   "execution_count": 15,
   "metadata": {
    "collapsed": true,
    "scrolled": true
   },
   "outputs": [],
   "source": [
    "TOTAL_MOVE = 0\n",
    "\n",
    "def minMoves(maze, x, y):\n",
    "    global TOTAL_MOVE\n",
    "    if maze[x][y] == 0: # open path\n",
    "        TOTAL_MOVE += 1\n",
    "#         return True\n",
    "    elif maze[x][y] == 1: # blocked\n",
    "        pass\n",
    "    elif maze[x][y] == 2: # cheese\n",
    "        TOTAL_MOVE += 1\n",
    "#         return True\n",
    " \n",
    "    # mark as visited\n",
    "    maze[x][y] = 2\n",
    " \n",
    "    # explore neighbors clockwise starting by the one on the right\n",
    "    if ((x < len(maze)-1 and minMoves(maze, x+1, y))\n",
    "        or (y > 0 and minMoves(maze, x, y-1))\n",
    "        or (x > 0 and minMoves(maze, x-1, y))\n",
    "        or (y < len(maze)-1 and minMoves(maze, x, y+1))):\n",
    "        return TOTAL_MOVE\n",
    "    print(TOTAL_MOVE)\n",
    "    return TOTAL_MOVE\n",
    "\n",
    "    # will return integers\n",
    "    # Not Solved"
   ]
  },
  {
   "cell_type": "markdown",
   "metadata": {},
   "source": [
    "**Sample I/O**\n",
    "\n",
    "maze = [[0, 2, 0], [0, 0, 1], [1, 1, 1]]\n",
    "\n",
    "x = 1 y = 1"
   ]
  },
  {
   "cell_type": "code",
   "execution_count": 17,
   "metadata": {
    "collapsed": true,
    "scrolled": false
   },
   "outputs": [],
   "source": [
    "#minMoves(maze=[[0, 2, 0], [0, 0, 1], [1, 1, 1]], x=1, y=1)"
   ]
  },
  {
   "cell_type": "markdown",
   "metadata": {},
   "source": [
    "# Question Number 2 (Not solved)"
   ]
  },
  {
   "cell_type": "markdown",
   "metadata": {},
   "source": [
    "** Constraints **\n",
    "1. There is no specific sequence in which the input (parent,child) pairs are represented.\n",
    "2. The name space is composed of upper case single letter (AZ) so the maximum size is 26 nodes. \n",
    "3. Error cases are to be tagged in the order they appear on the list. For example, if one input pair raises both error cases 1 and 2, the output must be E1."
   ]
  },
  {
   "cell_type": "code",
   "execution_count": 198,
   "metadata": {},
   "outputs": [],
   "source": [
    "def s_exp_rep(*args):\n",
    "#     S-exp(node) = (node->val (S-exp(node->first_child))(S-exp(node->second_child))),\n",
    "#     if node != NULL = \"\", node == NULL   where, first_child->val < second_child->val\n",
    "    # error code E1 - more than 2 Children\n",
    "    # error code E2 - duplicate edges\n",
    "    # error code E3 - cycle present\n",
    "    # error code E4 - multiple roots\n",
    "    # error code E5 - any other errors\n",
    "    # TODO: will return error code\n",
    "    # TODO: or return the tuples in a nested tuples\n",
    "    # E2: duplicate edges\n",
    "    E2 = false;\n",
    "    for i in range(len(args)):\n",
    "        x = args[i][0]\n",
    "        y = args[i][1]"
   ]
  },
  {
   "cell_type": "markdown",
   "metadata": {},
   "source": [
    "** Sample I/O **\n",
    "\n",
    "(B,D) (D,E) (A,B) (C,F) (E,G) (A,C)"
   ]
  },
  {
   "cell_type": "code",
   "execution_count": 83,
   "metadata": {
    "collapsed": true
   },
   "outputs": [],
   "source": [
    "# s_exp_rep()"
   ]
  },
  {
   "cell_type": "markdown",
   "metadata": {},
   "source": [
    "# Question Number 3 (Not Solved)"
   ]
  },
  {
   "cell_type": "markdown",
   "metadata": {},
   "source": [
    "**Constraints**\n",
    "* **text**, **prefix**, and **suffix** contain lowercase English alphabetic letters (i.e., a through z ) only.\n",
    "* 1 ≤ |text|, |prefix|, |suffix| ≤ 5 0 , where |s| denotes the number of characters in some string s .\n",
    "* It is guaranteed that there will always be a substring of **text** that, at minimum, matches either of the following:\n",
    "    * One or more characters at the end of **prefix** String . \n",
    "    * One or more characters at the beginning of **suffix** String "
   ]
  },
  {
   "cell_type": "code",
   "execution_count": 81,
   "metadata": {
    "collapsed": true
   },
   "outputs": [],
   "source": [
    "import itertools\n",
    "    \n",
    "def calculateScore(text='ab', prefix_string='b', suffix_string='a'):\n",
    "    # constraints applied\n",
    "    _text = text.lower()\n",
    "    _prefix_string = prefix_string.lower()\n",
    "    _suffix_string = suffix_string.lower()\n",
    "    _prefix_score = 0\n",
    "    _suffix_score = 0\n",
    "    _total_score = 0\n",
    "    text_sub = (_text[i:j] for i, j in itertools.combinations(range(len(_text)+1), 2))\n",
    "    prefix_sub = (_prefix_string[i:j] for i, j in itertools.combinations(range(len(_prefix_string)+1), 2))\n",
    "    suffix_sub = (_suffix_string[i:j] for i, j in itertools.combinations(range(len(_suffix_string)+1), 2))\n",
    "    \n",
    "    for i in text_sub:\n",
    "        for j in prefix_sub:\n",
    "            if i == j:\n",
    "                print(i)\n",
    "                _prefix_score = len(i)\n",
    "        for k in suffix_sub:\n",
    "            if i == k:\n",
    "                print('from suffix' + i)\n",
    "                _suffix_score = len(i)\n",
    "                \n",
    "    _total_score = _prefix_score + _suffix_score\n",
    "    \n",
    "    return _total_score"
   ]
  },
  {
   "cell_type": "markdown",
   "metadata": {},
   "source": [
    "** Sample I/O **\n",
    "\n",
    "nothing bruno ingenious"
   ]
  },
  {
   "cell_type": "code",
   "execution_count": 82,
   "metadata": {},
   "outputs": [
    {
     "name": "stdout",
     "output_type": "stream",
     "text": [
      "n\n",
      "from suffixn\n",
      "from suffixn\n"
     ]
    },
    {
     "data": {
      "text/plain": [
       "2"
      ]
     },
     "execution_count": 82,
     "metadata": {},
     "output_type": "execute_result"
    }
   ],
   "source": [
    "calculateScore(text='Nothing', prefix_string='bruno', suffix_string='ingenious')"
   ]
  },
  {
   "cell_type": "markdown",
   "metadata": {},
   "source": [
    "# Question Number 4 (Solved)"
   ]
  },
  {
   "cell_type": "markdown",
   "metadata": {},
   "source": [
    "** Constraints **\n",
    "* 1 ≤ n ≤ 300\n",
    "* 0 ≤ i < n \n",
    "* |zombies| = n\n",
    "* Each z contains a binary string of n zeroes and ones. It is a square matrix."
   ]
  },
  {
   "cell_type": "code",
   "execution_count": 19,
   "metadata": {
    "collapsed": true
   },
   "outputs": [],
   "source": [
    "def depth_search(j, exploited, zombies, row):\n",
    "    for k in range(row):\n",
    "        if zombies[j][k] == '1' and exploited[j][k] == False and exploited[k][j] == False:\n",
    "            exploited[j][k] = True\n",
    "            exploited[k][j] = True\n",
    "            depth_search(k,exploited,zombies, row)\n",
    "\n",
    "def zombieCluster(zombies):\n",
    "    _row = len(zombies)\n",
    "    _col = len(zombies[0])\n",
    "    _count = 0\n",
    "    if _row == 0 or _col == 0:\n",
    "        return _count\n",
    "    exploited = [[False for j in range(_col)]for i in range(_row)]\n",
    "    for i in range(_row):\n",
    "        _bol = False\n",
    "        for j in range(_row):\n",
    "            if zombies[i][j] == '1' and exploited[i][j] == False and exploited[j][i] == False:\n",
    "                exploited[i][j] = True\n",
    "                exploited[j][i] = True\n",
    "                depth_search(j,exploited,zombies, _row) \n",
    "                if _bol == False:\n",
    "                    _count += 1\n",
    "                    _bol = True\n",
    "    return _count"
   ]
  },
  {
   "cell_type": "markdown",
   "metadata": {},
   "source": [
    "** Sample I/O **\n",
    "\n",
    "zombies = [\"1100\", \"1110\", \"0110\", \"0001\"]"
   ]
  },
  {
   "cell_type": "code",
   "execution_count": 20,
   "metadata": {},
   "outputs": [
    {
     "data": {
      "text/plain": [
       "2"
      ]
     },
     "execution_count": 20,
     "metadata": {},
     "output_type": "execute_result"
    }
   ],
   "source": [
    "zombies = [\"1100\" ,\"1110\", \"0110\", \"0001\"]\n",
    "zombieCluster(zombies)"
   ]
  },
  {
   "cell_type": "markdown",
   "metadata": {},
   "source": [
    "# Question Number 5 (Solved)"
   ]
  },
  {
   "cell_type": "markdown",
   "metadata": {},
   "source": [
    "** Constraints **\n",
    "* 1 ≤ n ≤ 50 \n",
    "* 1 ≤ ip ≤ 50 \n",
    "* It is guaranteed that any string containing a valid IP v 4 or IP v 6 address has no leading or trailing whitespace"
   ]
  },
  {
   "cell_type": "code",
   "execution_count": 13,
   "metadata": {
    "collapsed": true
   },
   "outputs": [],
   "source": [
    "import ipaddress\n",
    "\n",
    "def checkIP(n, *args):\n",
    "    # applying constraints \n",
    "    if (n < 1 or n >= 50) and (len(args) < 1 or len(args) >= 50):\n",
    "        print('You hit the limit try between 1 and 49')\n",
    "    elif n != len(args):\n",
    "        print('Add or substract more parameters')\n",
    "    else:\n",
    "        for i in range(n):\n",
    "            # loop through each args \n",
    "            try:\n",
    "                # check for ip versions\n",
    "                _ip = ipaddress.ip_address(args[i])\n",
    "                if _ip.version == 4:\n",
    "                    print('IPv4')\n",
    "                elif _ip.version == 6:\n",
    "                    print('IPv6')\n",
    "            except ValueError:\n",
    "                print('Neither')"
   ]
  },
  {
   "cell_type": "markdown",
   "metadata": {},
   "source": [
    "** Sample I/O **\n",
    "\n",
    "3, This line has junk text, 121.18.19.20, 2001:0db8:0000:0000:0000:ff00:0042:8329"
   ]
  },
  {
   "cell_type": "code",
   "execution_count": 14,
   "metadata": {
    "scrolled": true
   },
   "outputs": [
    {
     "name": "stdout",
     "output_type": "stream",
     "text": [
      "Neither\n",
      "IPv4\n",
      "IPv6\n"
     ]
    }
   ],
   "source": [
    "checkIP(3, 'This line has junk text,', '121.18.19.20', '2001:0db8:0000:0000:0000:ff00:0042:8329')"
   ]
  },
  {
   "cell_type": "markdown",
   "metadata": {},
   "source": [
    "# Question Number 6 (Solved)"
   ]
  },
  {
   "cell_type": "markdown",
   "metadata": {},
   "source": [
    "** Constraints **\n",
    "* 1 ≤ n ≤ 50\n",
    "* 1 ≤ lengths ≤ 10\n",
    "* 1 ≤ salePrice, costPerCut ≤ 1000"
   ]
  },
  {
   "cell_type": "code",
   "execution_count": 23,
   "metadata": {
    "collapsed": true
   },
   "outputs": [],
   "source": [
    "def profit(cost_per_cut, sale_price, n):\n",
    "    _max_length = 0\n",
    "    for i in n:\n",
    "        if i > _max_length:\n",
    "            _max_length = i;\n",
    "\n",
    "    _max_profit = 0\n",
    "    \n",
    "    jj = 1\n",
    "    while jj < _max_length:\n",
    "        sum_of_lengths = 0\n",
    "        sum_of_cut_counts = 0\n",
    "        sum_of_cut_wastes = 0\n",
    "        for i in n:\n",
    "            sum_of_lengths += i\n",
    "            if i % jj == 0:\n",
    "                sum_of_cut_counts += int(i/jj - 1)\n",
    "            else:\n",
    "                sum_of_cut_counts += int(i/jj)\n",
    "            \n",
    "            sum_of_cut_wastes += int(i%jj)\n",
    "            \n",
    "            #     total_profit = total_uniform_rods * sale_length * sale_price − total_cuts * cost_per_cut\n",
    "            _profit = sum_of_lengths * sale_price - sum_of_cut_counts * cost_per_cut - sum_of_cut_wastes * sale_price\n",
    "            if _profit > _max_profit:\n",
    "                _max_profit = _profit\n",
    "        jj += 1\n",
    "\n",
    "    return int(_max_profit);"
   ]
  },
  {
   "cell_type": "code",
   "execution_count": 24,
   "metadata": {},
   "outputs": [
    {
     "name": "stdout",
     "output_type": "stream",
     "text": [
      "1770\n"
     ]
    }
   ],
   "source": [
    "print(profit(1, 10, [26, 103, 59]))"
   ]
  },
  {
   "cell_type": "markdown",
   "metadata": {},
   "source": [
    "# Question Number 7 (Didn't Touch)"
   ]
  },
  {
   "cell_type": "markdown",
   "metadata": {},
   "source": [
    "** Constraints **\n",
    "* 1 ≤ n ≤ 50 \n",
    "* Each words consists of one or more of the following characters: lowercase English alphabetic letters ([a-z]), digits ([0-9]), colons (:), forward slashes (/), and backward slashes (\\) only.\n",
    "* The length of each w o r d s is no more than 5 × 1 0 ."
   ]
  },
  {
   "cell_type": "code",
   "execution_count": null,
   "metadata": {
    "collapsed": true
   },
   "outputs": [],
   "source": [
    "def answers7():\n",
    "    pass"
   ]
  },
  {
   "cell_type": "markdown",
   "metadata": {},
   "source": [
    "# Question Number 8 (Didn't touch)"
   ]
  },
  {
   "cell_type": "markdown",
   "metadata": {},
   "source": [
    "** Constraints **\n",
    "* 2 ≤ friends_nodes ≤ 100\n",
    "* 1 ≤ friends_edges ≤ min ( 2 0 0, / )\n",
    "* 1 ≤ friends_weight ≤ 100\n",
    "* 1 ≤ friends_from, friends_to ≤ friends_nodes\n",
    "* 1 ≤ friends_weight ≤ friends_edges \n",
    "* friends_from ≠ friends_to\n",
    "* Each pair of friends can be connected by zero or more types of tokens."
   ]
  },
  {
   "cell_type": "code",
   "execution_count": null,
   "metadata": {
    "collapsed": true
   },
   "outputs": [],
   "source": [
    "def maxToken(friends_node, friends_from, friends_to, friends_weight):\n",
    "    pass"
   ]
  },
  {
   "cell_type": "markdown",
   "metadata": {},
   "source": [
    "** Sample I/O **\n",
    "\n"
   ]
  },
  {
   "cell_type": "markdown",
   "metadata": {},
   "source": [
    "# Question Number 9"
   ]
  },
  {
   "cell_type": "markdown",
   "metadata": {},
   "source": [
    "** Constraints **\n",
    "* 3 ≤ g_nodes ≤ 10\n",
    "* 1 ≤ g_edges ≤ min ( 10 ,  ⁄ )\n",
    "* 1 ≤ g_weight[i] ≤ 10"
   ]
  },
  {
   "cell_type": "code",
   "execution_count": 21,
   "metadata": {
    "collapsed": true
   },
   "outputs": [],
   "source": [
    "def minCost(g_nodes, g_from, g_to, g_weight):\n",
    "    # an integers g_nodes\n",
    "    # an array of integers g_from\n",
    "    # an array of integers g_to\n",
    "    # an array of integers g_weight\n",
    "    pass"
   ]
  },
  {
   "cell_type": "markdown",
   "metadata": {},
   "source": [
    "** Sample I/O **\n",
    "\n"
   ]
  },
  {
   "cell_type": "markdown",
   "metadata": {},
   "source": [
    "# Question Number 10 (Solved)"
   ]
  },
  {
   "cell_type": "markdown",
   "metadata": {},
   "source": [
    "** Constraints **\n",
    "* 1 ≤ n ≤ 2 × 10\n",
    "* 1 ≤ k ≤ 4 × 10"
   ]
  },
  {
   "cell_type": "code",
   "execution_count": 218,
   "metadata": {
    "collapsed": true
   },
   "outputs": [],
   "source": [
    "def maxMoney(n, k):\n",
    "    _sum_collected = 0\n",
    "    for i in range(1, n+1):\n",
    "        _sum_collected += i\n",
    "        if _sum_collected == k:\n",
    "#             print(f'neglegible {_sum_collected}')\n",
    "            _sum_collected -= i\n",
    "    return _sum_collected"
   ]
  },
  {
   "cell_type": "markdown",
   "metadata": {},
   "source": [
    "** Sample I/O **\n",
    "\n",
    "n = 2 \n",
    "k = 2"
   ]
  },
  {
   "cell_type": "code",
   "execution_count": 219,
   "metadata": {},
   "outputs": [
    {
     "data": {
      "text/plain": [
       "4"
      ]
     },
     "execution_count": 219,
     "metadata": {},
     "output_type": "execute_result"
    }
   ],
   "source": [
    "maxMoney(3, 3)"
   ]
  },
  {
   "cell_type": "markdown",
   "metadata": {},
   "source": [
    "# Question Number 11 (Solved)"
   ]
  },
  {
   "cell_type": "markdown",
   "metadata": {},
   "source": [
    "** Constraints **"
   ]
  },
  {
   "cell_type": "code",
   "execution_count": 81,
   "metadata": {
    "collapsed": true
   },
   "outputs": [],
   "source": [
    "def superStack(operations):\n",
    "    _stack = []\n",
    "    for i in operations:\n",
    "        if 'pop' in i:\n",
    "            _stack.pop()\n",
    "        elif 'push' in i:\n",
    "            _sub = int(i.split(' ')[1])\n",
    "            _stack.append(_sub)\n",
    "            \n",
    "        elif 'inc' in i:\n",
    "            _e = int(i.split(' ')[1])\n",
    "            _k = int(i.split(' ')[2])\n",
    "            for j in range(_e):\n",
    "                _stack[j] += _k\n",
    "\n",
    "        if not _stack:\n",
    "            print('Empty')\n",
    "        else:\n",
    "            print(_stack[len(_stack)-1])"
   ]
  },
  {
   "cell_type": "markdown",
   "metadata": {},
   "source": [
    "** Sample I/O **\n",
    "\n"
   ]
  },
  {
   "cell_type": "code",
   "execution_count": 82,
   "metadata": {},
   "outputs": [
    {
     "name": "stdout",
     "output_type": "stream",
     "text": [
      "4\n",
      "Empty\n",
      "3\n",
      "5\n",
      "2\n",
      "3\n",
      "6\n",
      "1\n",
      "1\n",
      "4\n",
      "1\n",
      "8\n"
     ]
    }
   ],
   "source": [
    "superStack(['push 4','pop', 'push 3', 'push 5', 'push 2', 'inc 3 1', 'pop', 'push 1', 'inc 2 2', 'push 4', 'pop', 'pop'])"
   ]
  },
  {
   "cell_type": "markdown",
   "metadata": {},
   "source": [
    "# Question Number 12 (Didn't Touch)"
   ]
  },
  {
   "cell_type": "markdown",
   "metadata": {},
   "source": [
    "** Constraints **"
   ]
  },
  {
   "cell_type": "code",
   "execution_count": null,
   "metadata": {
    "collapsed": true
   },
   "outputs": [],
   "source": [
    "def slotGame():\n",
    "    pass"
   ]
  },
  {
   "cell_type": "markdown",
   "metadata": {},
   "source": [
    "** Sample I/O **\n",
    "\n"
   ]
  },
  {
   "cell_type": "markdown",
   "metadata": {},
   "source": [
    "# Question Number 13 (Not solved)"
   ]
  },
  {
   "cell_type": "markdown",
   "metadata": {},
   "source": [
    "** Constraints **"
   ]
  },
  {
   "cell_type": "code",
   "execution_count": 216,
   "metadata": {
    "collapsed": true
   },
   "outputs": [],
   "source": [
    "def spt_max_profit(t, n):\n",
    "    for i in range(t):\n",
    "        \n",
    "        shr = map(int,n)    \n",
    "        ans  = 0    \n",
    "        locmax = shr[n-1]\n",
    "        for i in range(n-2,-1,-1):\n",
    "            if shr[i] < locmax:\n",
    "                ans += locmax - shr[i]\n",
    "            else:\n",
    "                locmax = shr[i]\n",
    "        print (ans)\n",
    "\n",
    "#     pass"
   ]
  },
  {
   "cell_type": "markdown",
   "metadata": {},
   "source": [
    "** Sample I/O **\n",
    "\n"
   ]
  },
  {
   "cell_type": "code",
   "execution_count": 217,
   "metadata": {},
   "outputs": [
    {
     "ename": "TypeError",
     "evalue": "unsupported operand type(s) for -: 'list' and 'int'",
     "output_type": "error",
     "traceback": [
      "\u001b[1;31m---------------------------------------------------------------------------\u001b[0m",
      "\u001b[1;31mTypeError\u001b[0m                                 Traceback (most recent call last)",
      "\u001b[1;32m<ipython-input-217-26975414d38b>\u001b[0m in \u001b[0;36m<module>\u001b[1;34m()\u001b[0m\n\u001b[0;32m      1\u001b[0m \u001b[0mn\u001b[0m \u001b[1;33m=\u001b[0m \u001b[1;33m[\u001b[0m\u001b[1;33m[\u001b[0m\u001b[1;34m\"3\"\u001b[0m\u001b[1;33m,\u001b[0m \u001b[1;34m\"5\"\u001b[0m\u001b[1;33m]\u001b[0m\u001b[1;33m,\u001b[0m \u001b[1;33m[\u001b[0m\u001b[1;34m\"3\"\u001b[0m\u001b[1;33m,\u001b[0m \u001b[1;34m\"2\"\u001b[0m\u001b[1;33m]\u001b[0m\u001b[1;33m,\u001b[0m \u001b[1;33m[\u001b[0m\u001b[1;34m\"3\"\u001b[0m\u001b[1;33m,\u001b[0m \u001b[1;34m\"1\"\u001b[0m\u001b[1;33m]\u001b[0m\u001b[1;33m]\u001b[0m\u001b[1;33m\u001b[0m\u001b[0m\n\u001b[1;32m----> 2\u001b[1;33m \u001b[0mspt_max_profit\u001b[0m\u001b[1;33m(\u001b[0m\u001b[1;36m3\u001b[0m\u001b[1;33m,\u001b[0m \u001b[0mn\u001b[0m\u001b[1;33m)\u001b[0m\u001b[1;33m\u001b[0m\u001b[0m\n\u001b[0m\u001b[0;32m      3\u001b[0m \u001b[1;33m\u001b[0m\u001b[0m\n",
      "\u001b[1;32m<ipython-input-216-ada8ccfb8ce1>\u001b[0m in \u001b[0;36mspt_max_profit\u001b[1;34m(t, n)\u001b[0m\n\u001b[0;32m      4\u001b[0m         \u001b[0mshr\u001b[0m \u001b[1;33m=\u001b[0m \u001b[0mmap\u001b[0m\u001b[1;33m(\u001b[0m\u001b[0mint\u001b[0m\u001b[1;33m,\u001b[0m\u001b[0mn\u001b[0m\u001b[1;33m)\u001b[0m\u001b[1;33m\u001b[0m\u001b[0m\n\u001b[0;32m      5\u001b[0m         \u001b[0mans\u001b[0m  \u001b[1;33m=\u001b[0m \u001b[1;36m0\u001b[0m\u001b[1;33m\u001b[0m\u001b[0m\n\u001b[1;32m----> 6\u001b[1;33m         \u001b[0mlocmax\u001b[0m \u001b[1;33m=\u001b[0m \u001b[0mshr\u001b[0m\u001b[1;33m[\u001b[0m\u001b[0mn\u001b[0m\u001b[1;33m-\u001b[0m\u001b[1;36m1\u001b[0m\u001b[1;33m]\u001b[0m\u001b[1;33m\u001b[0m\u001b[0m\n\u001b[0m\u001b[0;32m      7\u001b[0m         \u001b[1;32mfor\u001b[0m \u001b[0mi\u001b[0m \u001b[1;32min\u001b[0m \u001b[0mrange\u001b[0m\u001b[1;33m(\u001b[0m\u001b[0mn\u001b[0m\u001b[1;33m-\u001b[0m\u001b[1;36m2\u001b[0m\u001b[1;33m,\u001b[0m\u001b[1;33m-\u001b[0m\u001b[1;36m1\u001b[0m\u001b[1;33m,\u001b[0m\u001b[1;33m-\u001b[0m\u001b[1;36m1\u001b[0m\u001b[1;33m)\u001b[0m\u001b[1;33m:\u001b[0m\u001b[1;33m\u001b[0m\u001b[0m\n\u001b[0;32m      8\u001b[0m             \u001b[1;32mif\u001b[0m \u001b[0mshr\u001b[0m\u001b[1;33m[\u001b[0m\u001b[0mi\u001b[0m\u001b[1;33m]\u001b[0m \u001b[1;33m<\u001b[0m \u001b[0mlocmax\u001b[0m\u001b[1;33m:\u001b[0m\u001b[1;33m\u001b[0m\u001b[0m\n",
      "\u001b[1;31mTypeError\u001b[0m: unsupported operand type(s) for -: 'list' and 'int'"
     ]
    }
   ],
   "source": [
    "n = [[\"3\", \"5\"], [\"3\", \"2\"], [\"3\", \"1\"]]\n",
    "# spt_max_profit(3, n)\n",
    " "
   ]
  },
  {
   "cell_type": "markdown",
   "metadata": {},
   "source": [
    "# Question Number 14 (Solved)"
   ]
  },
  {
   "cell_type": "markdown",
   "metadata": {},
   "source": [
    "** Constraints **"
   ]
  },
  {
   "cell_type": "code",
   "execution_count": 213,
   "metadata": {},
   "outputs": [],
   "source": [
    "from itertools import tee\n",
    "from collections import deque\n",
    "\n",
    "class Node:\n",
    "    def __init__(self, key):\n",
    "        self.key = key\n",
    "        self.left = None\n",
    "        self.right = None\n",
    "\n",
    "def add(node, root):\n",
    "    if root is None:\n",
    "        raise ValueError('root cannot be None.')\n",
    "\n",
    "    nodes_found = deque([root])\n",
    "\n",
    "    while len(nodes_found) > 0:\n",
    "        current_node = nodes_found.popleft()\n",
    "\n",
    "        if current_node.left is None:\n",
    "            current_node.left = node\n",
    "            break\n",
    "        if current_node.right is None:\n",
    "            current_node.right = node\n",
    "            break\n",
    "\n",
    "        nodes_found.append(current_node.left)\n",
    "        nodes_found.append(current_node.right)\n",
    "\n",
    "def is_binary_search_tree(root):\n",
    "\n",
    "    def is_bst(node, min, max):\n",
    "        if node.key <= min:\n",
    "            return False\n",
    "\n",
    "        if node.key >= max:\n",
    "            return False\n",
    "\n",
    "        left_ok = True\n",
    "        right_ok = True\n",
    "\n",
    "        if node.left is not None:\n",
    "            left_ok = is_bst(node.left, min, node.key)\n",
    "        if node.right is not None:\n",
    "            right_ok = is_bst(node.right, node.key, max)\n",
    "\n",
    "        return left_ok and right_ok\n",
    "\n",
    "    if root is None:\n",
    "        return True\n",
    "\n",
    "    return is_bst(root, float('-inf'), float('inf'))\n",
    "\n",
    "def is_valid_BST(sample):\n",
    "    for i in sample:\n",
    "        _node = i[0]\n",
    "        root = Node(_node)\n",
    "        _key_list = i[1]\n",
    "        \n",
    "        for key in _key_list:\n",
    "            add(Node(key), root)\n",
    "        print(is_binary_search_tree(root))"
   ]
  },
  {
   "cell_type": "markdown",
   "metadata": {},
   "source": [
    "** Sample I/O **\n",
    "\n",
    "sample = ['3', '1 3'], [2 3 2 1 3 6 3 2 1 5 4 6 4 1 3 4 2 5 3 4 5 1 2"
   ]
  },
  {
   "cell_type": "code",
   "execution_count": 215,
   "metadata": {},
   "outputs": [
    {
     "name": "stdout",
     "output_type": "stream",
     "text": [
      "False\n",
      "False\n",
      "False\n",
      "False\n",
      "False\n"
     ]
    }
   ],
   "source": [
    "is_valid_BST([[3, [1,3,2]], [3, [2,1,3]], [6, [3,2,1,5,4,6]], [4, [1,3,4,2]], [5, [3,4,5,1,2]]])"
   ]
  },
  {
   "cell_type": "markdown",
   "metadata": {},
   "source": [
    "# Question Number 15 (Didn't touch)"
   ]
  },
  {
   "cell_type": "markdown",
   "metadata": {},
   "source": [
    "** Constraints **"
   ]
  },
  {
   "cell_type": "code",
   "execution_count": null,
   "metadata": {
    "collapsed": true
   },
   "outputs": [],
   "source": [
    "def answer15():\n",
    "    pass"
   ]
  },
  {
   "cell_type": "markdown",
   "metadata": {},
   "source": [
    "** Sample I/O **\n",
    "\n"
   ]
  },
  {
   "cell_type": "markdown",
   "metadata": {},
   "source": [
    "# Question Number 16 (Didn't touch)"
   ]
  },
  {
   "cell_type": "markdown",
   "metadata": {},
   "source": [
    "** Constraints **"
   ]
  },
  {
   "cell_type": "code",
   "execution_count": null,
   "metadata": {
    "collapsed": true
   },
   "outputs": [],
   "source": [
    "def answer16():\n",
    "    pass"
   ]
  },
  {
   "cell_type": "markdown",
   "metadata": {},
   "source": [
    "** Sample I/O **\n",
    "\n"
   ]
  },
  {
   "cell_type": "markdown",
   "metadata": {},
   "source": [
    "# Question Number 17 (Half Solved)"
   ]
  },
  {
   "cell_type": "markdown",
   "metadata": {},
   "source": [
    "** Constraints **"
   ]
  },
  {
   "cell_type": "code",
   "execution_count": 187,
   "metadata": {},
   "outputs": [],
   "source": [
    "from fractions import Fraction\n",
    "from functools import reduce\n",
    "\n",
    "def fracsCalc(fracs):\n",
    "    t = reduce(lambda x,y:x*y,fracs,1)\n",
    "    return t.numerator, t.denominator\n",
    "\n",
    "def reducedFractionSum(sample):\n",
    "    _fracs = []\n",
    "    for i in range(len(sample)):\n",
    "        _two_fracs = sample[i].split('+')\n",
    "        _fracs.append(Fraction(*map(int, _two_fracs[0].split('/'))))\n",
    "        _fracs.append(Fraction(*map(int, _two_fracs[1].split('/'))))\n",
    "#     print(_fracs)\n",
    "    # TODO: need to calc each one seperately\n",
    "    result = fracsCalc(_fracs)\n",
    "    print(*result)"
   ]
  },
  {
   "cell_type": "markdown",
   "metadata": {},
   "source": [
    "** Sample I/O **\n",
    "\n",
    "sample = [722/148+360/176, 978/1212+183/183, 358/472+301/417, 780/309+684/988, 258/840+854/686]\n"
   ]
  },
  {
   "cell_type": "code",
   "execution_count": 186,
   "metadata": {},
   "outputs": [
    {
     "name": "stdout",
     "output_type": "stream",
     "text": [
      "160379314163955 54445987354528\n"
     ]
    }
   ],
   "source": [
    "sample = ['722/148+360/176', '978/1212+183/183', '358/472+301/417', '780/309+684/988', '258/840+854/686']\n",
    "reducedFractionSum(sample)"
   ]
  },
  {
   "cell_type": "markdown",
   "metadata": {},
   "source": [
    "# Question Number 18 (Solved)"
   ]
  },
  {
   "cell_type": "markdown",
   "metadata": {},
   "source": [
    "** Constraints **"
   ]
  },
  {
   "cell_type": "code",
   "execution_count": 151,
   "metadata": {
    "collapsed": true
   },
   "outputs": [],
   "source": [
    "def maxDifference(arr):\n",
    "    _min = arr[0]\n",
    "    _max = arr[0]\n",
    "    _diff = -1\n",
    "\n",
    "    for i in arr[1:]:\n",
    "        _min = min(i, _min)\n",
    "        if i > _max:\n",
    "            _diff = max(_diff, i - _min)\n",
    "            _max = i\n",
    "\n",
    "    return _diff"
   ]
  },
  {
   "cell_type": "markdown",
   "metadata": {},
   "source": [
    "** Sample I/O **\n",
    "\n",
    "sample =[ 7, 2, 3, 10, 2, 4, 8, 1, ]"
   ]
  },
  {
   "cell_type": "code",
   "execution_count": 152,
   "metadata": {},
   "outputs": [
    {
     "data": {
      "text/plain": [
       "8"
      ]
     },
     "execution_count": 152,
     "metadata": {},
     "output_type": "execute_result"
    }
   ],
   "source": [
    "sample =[ 7, 2, 3, 10, 2, 4, 8, 1, ]\n",
    "maxDifference(sample)"
   ]
  },
  {
   "cell_type": "markdown",
   "metadata": {},
   "source": [
    "# Question Number 19 (Solved)"
   ]
  },
  {
   "cell_type": "markdown",
   "metadata": {},
   "source": [
    "** Constraints **"
   ]
  },
  {
   "cell_type": "code",
   "execution_count": 147,
   "metadata": {
    "collapsed": true
   },
   "outputs": [],
   "source": [
    "def usernameDisparity(n, strings):\n",
    "    for line in range(n):\n",
    "        _len = len(strings)\n",
    "        total_sum = _len\n",
    "\n",
    "        _z = [0]\n",
    "        _l = 0\n",
    "        _r = 0\n",
    "\n",
    "        for i in range(1,_len):\n",
    "            if i > _r:\n",
    "                _match=0\n",
    "                _index = i\n",
    "                while _index < _len:\n",
    "                    if strings[_index] == strings[_match]:\n",
    "                        _match +=1\n",
    "                        _index +=1\n",
    "                    else:\n",
    "                        break\n",
    "                _z.append(_match)\n",
    "                if _match > 0:\n",
    "                    total_sum +=_match\n",
    "                    _l = i\n",
    "                    _r = _index-1\n",
    "            else:\n",
    "                if _z[i-_l] < (_r-i)+1:\n",
    "                    _z.append(_z[i-_l])\n",
    "                    total_sum +=_z[i-_l]\n",
    "                else:\n",
    "                    _match = _r-i\n",
    "                    _index = _r\n",
    "                    while _index < _len:\n",
    "                        if strings[_index] == strings[_match]:\n",
    "                            _match +=1\n",
    "                            _index +=1\n",
    "                        else:\n",
    "                            break\n",
    "                    _z.append(_match)\n",
    "                    total_sum +=_match\n",
    "                    _l = i\n",
    "                    _r = _index-1\n",
    "        print(total_sum)"
   ]
  },
  {
   "cell_type": "markdown",
   "metadata": {},
   "source": [
    "** Sample I/O **\n",
    "\n"
   ]
  },
  {
   "cell_type": "code",
   "execution_count": 148,
   "metadata": {},
   "outputs": [
    {
     "name": "stdout",
     "output_type": "stream",
     "text": [
      "11\n"
     ]
    }
   ],
   "source": [
    "usernameDisparity(1, 'ababaa')"
   ]
  },
  {
   "cell_type": "markdown",
   "metadata": {},
   "source": [
    "# Question Number 20 (Solved)"
   ]
  },
  {
   "cell_type": "markdown",
   "metadata": {},
   "source": [
    "** Constraints **"
   ]
  },
  {
   "cell_type": "code",
   "execution_count": 130,
   "metadata": {},
   "outputs": [],
   "source": [
    "def mapHost():\n",
    "    host = []\n",
    "    host_dict ={}\n",
    "    filename = 'hosts_access_log_00.txt'\n",
    "    with open(filename, 'r', encoding='utf-8') as f:\n",
    "        for line in f:\n",
    "            _host = line.split(' ')[0].strip()\n",
    "            for i in _host.split('\\\\n'):\n",
    "                if i in host:\n",
    "                    host_dict[i] += 1\n",
    "                else:\n",
    "                    host.append(i)\n",
    "                    host_dict[i] = 1\n",
    "    \n",
    "    \n",
    "    with open(f'records_{filename}', 'w', encoding='utf-8') as out:\n",
    "        out.write(str(host_dict)) # can be used json dumps to get rid of curly braces of the dict"
   ]
  },
  {
   "cell_type": "markdown",
   "metadata": {},
   "source": [
    "** Sample I/O **\n",
    "\n"
   ]
  },
  {
   "cell_type": "code",
   "execution_count": 131,
   "metadata": {},
   "outputs": [],
   "source": [
    "mapHost()"
   ]
  },
  {
   "cell_type": "code",
   "execution_count": null,
   "metadata": {
    "collapsed": true
   },
   "outputs": [],
   "source": []
  }
 ],
 "metadata": {
  "kernelspec": {
   "display_name": "Python 3",
   "language": "python",
   "name": "python3"
  },
  "language_info": {
   "codemirror_mode": {
    "name": "ipython",
    "version": 3
   },
   "file_extension": ".py",
   "mimetype": "text/x-python",
   "name": "python",
   "nbconvert_exporter": "python",
   "pygments_lexer": "ipython3",
   "version": "3.6.1"
  }
 },
 "nbformat": 4,
 "nbformat_minor": 2
}
